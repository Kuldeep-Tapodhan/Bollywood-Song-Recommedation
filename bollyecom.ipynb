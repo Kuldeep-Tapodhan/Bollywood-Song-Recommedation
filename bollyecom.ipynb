{
 "cells": [
  {
   "cell_type": "code",
   "execution_count": 54,
   "metadata": {},
   "outputs": [],
   "source": [
    "import pandas as pd\n",
    "import numpy as np\n",
    "import pickle\n",
    "from sklearn.feature_extraction.text import TfidfVectorizer\n",
    "# from sklearn.metrics.pairwise import cosine_similarity\n",
    "from sklearn.neighbors import NearestNeighbors\n",
    "# from sklearn.cluster import KMeans \n",
    "# from sklearn.manifold import TSNE\n",
    "# import matplotlib.pyplot as plt"
   ]
  },
  {
   "cell_type": "code",
   "execution_count": null,
   "metadata": {},
   "outputs": [
    {
     "name": "stderr",
     "output_type": "stream",
     "text": [
      "<>:1: SyntaxWarning: invalid escape sequence '\\D'\n",
      "<>:1: SyntaxWarning: invalid escape sequence '\\D'\n",
      "C:\\Users\\djtap\\AppData\\Local\\Temp\\ipykernel_32184\\1883423487.py:1: SyntaxWarning: invalid escape sequence '\\D'\n",
      "  df=pd.read_csv('D:\\DS&ML\\DataSets\\Bollywood_songs.csv', encoding='ISO-8859-1')\n"
     ]
    }
   ],
   "source": [
    "df=pd.read_csv('Bollywood_songs.csv', encoding='ISO-8859-1')"
   ]
  },
  {
   "cell_type": "code",
   "execution_count": 56,
   "metadata": {},
   "outputs": [],
   "source": [
    "df=df.dropna()"
   ]
  },
  {
   "cell_type": "code",
   "execution_count": 57,
   "metadata": {},
   "outputs": [
    {
     "data": {
      "text/plain": [
       "id             0\n",
       "Song-Name      0\n",
       "Artists        0\n",
       "Genre          0\n",
       "Album/Movie    0\n",
       "User-Rating    0\n",
       "dtype: int64"
      ]
     },
     "execution_count": 57,
     "metadata": {},
     "output_type": "execute_result"
    }
   ],
   "source": [
    "df.isnull().sum()"
   ]
  },
  {
   "cell_type": "code",
   "execution_count": 58,
   "metadata": {},
   "outputs": [
    {
     "data": {
      "text/html": [
       "<div>\n",
       "<style scoped>\n",
       "    .dataframe tbody tr th:only-of-type {\n",
       "        vertical-align: middle;\n",
       "    }\n",
       "\n",
       "    .dataframe tbody tr th {\n",
       "        vertical-align: top;\n",
       "    }\n",
       "\n",
       "    .dataframe thead th {\n",
       "        text-align: right;\n",
       "    }\n",
       "</style>\n",
       "<table border=\"1\" class=\"dataframe\">\n",
       "  <thead>\n",
       "    <tr style=\"text-align: right;\">\n",
       "      <th></th>\n",
       "      <th>id</th>\n",
       "      <th>Song-Name</th>\n",
       "      <th>Artists</th>\n",
       "      <th>Genre</th>\n",
       "      <th>Album/Movie</th>\n",
       "      <th>User-Rating</th>\n",
       "    </tr>\n",
       "  </thead>\n",
       "  <tbody>\n",
       "    <tr>\n",
       "      <th>0</th>\n",
       "      <td>1</td>\n",
       "      <td>Aankh Marey</td>\n",
       "      <td>Kumar Sanu, Mika Singh, Neha Kakkar</td>\n",
       "      <td>Dance</td>\n",
       "      <td>Simmba</td>\n",
       "      <td>8.8</td>\n",
       "    </tr>\n",
       "    <tr>\n",
       "      <th>1</th>\n",
       "      <td>2</td>\n",
       "      <td>Coca Cola</td>\n",
       "      <td>Neha Kakkar, Tony Kakkar</td>\n",
       "      <td>DanceRomantic</td>\n",
       "      <td>Luka Chuppi</td>\n",
       "      <td>9.0</td>\n",
       "    </tr>\n",
       "    <tr>\n",
       "      <th>2</th>\n",
       "      <td>3</td>\n",
       "      <td>Apna Time Aayega</td>\n",
       "      <td>Ranveer Singh</td>\n",
       "      <td>Dance</td>\n",
       "      <td>Gully Boy</td>\n",
       "      <td>9.7</td>\n",
       "    </tr>\n",
       "    <tr>\n",
       "      <th>3</th>\n",
       "      <td>4</td>\n",
       "      <td>Mungda</td>\n",
       "      <td>Jyotica Tangri, Shaan, Subhro Ganguly</td>\n",
       "      <td>Dance</td>\n",
       "      <td>Total Dhamaal</td>\n",
       "      <td>9.1</td>\n",
       "    </tr>\n",
       "    <tr>\n",
       "      <th>4</th>\n",
       "      <td>5</td>\n",
       "      <td>Tere Bin</td>\n",
       "      <td>Asees Kaur, Rahat Fateh Ali Khan, Tanishk Bagchi</td>\n",
       "      <td>Romantic</td>\n",
       "      <td>Simmba</td>\n",
       "      <td>9.2</td>\n",
       "    </tr>\n",
       "  </tbody>\n",
       "</table>\n",
       "</div>"
      ],
      "text/plain": [
       "   id         Song-Name                                           Artists  \\\n",
       "0   1       Aankh Marey               Kumar Sanu, Mika Singh, Neha Kakkar   \n",
       "1   2         Coca Cola                          Neha Kakkar, Tony Kakkar   \n",
       "2   3  Apna Time Aayega                                     Ranveer Singh   \n",
       "3   4            Mungda             Jyotica Tangri, Shaan, Subhro Ganguly   \n",
       "4   5          Tere Bin  Asees Kaur, Rahat Fateh Ali Khan, Tanishk Bagchi   \n",
       "\n",
       "            Genre    Album/Movie  User-Rating  \n",
       "0           Dance         Simmba          8.8  \n",
       "1   DanceRomantic    Luka Chuppi          9.0  \n",
       "2           Dance      Gully Boy          9.7  \n",
       "3           Dance  Total Dhamaal          9.1  \n",
       "4        Romantic         Simmba          9.2  "
      ]
     },
     "execution_count": 58,
     "metadata": {},
     "output_type": "execute_result"
    }
   ],
   "source": [
    "df.head()"
   ]
  },
  {
   "cell_type": "code",
   "execution_count": 59,
   "metadata": {},
   "outputs": [
    {
     "data": {
      "text/plain": [
       "0                  KumarSanu,MikaSingh,NehaKakkar\n",
       "1                           NehaKakkar,TonyKakkar\n",
       "2                                    RanveerSingh\n",
       "3               JyoticaTangri,Shaan,SubhroGanguly\n",
       "4       AseesKaur,RahatFatehAliKhan,TanishkBagchi\n",
       "                          ...                    \n",
       "2415                                       Mukesh\n",
       "2416                               LataMangeshkar\n",
       "2417                  LataMangeshkar,SureshWadkar\n",
       "2418                                   JagjitKaur\n",
       "2419                                   AshaBhosle\n",
       "Name: Artists, Length: 2407, dtype: object"
      ]
     },
     "execution_count": 59,
     "metadata": {},
     "output_type": "execute_result"
    }
   ],
   "source": [
    "df['Artists'] = df['Artists'].str.replace(\" \", \"\", regex=False)\n",
    "df['Artists']"
   ]
  },
  {
   "cell_type": "code",
   "execution_count": 60,
   "metadata": {},
   "outputs": [
    {
     "data": {
      "text/html": [
       "<div>\n",
       "<style scoped>\n",
       "    .dataframe tbody tr th:only-of-type {\n",
       "        vertical-align: middle;\n",
       "    }\n",
       "\n",
       "    .dataframe tbody tr th {\n",
       "        vertical-align: top;\n",
       "    }\n",
       "\n",
       "    .dataframe thead th {\n",
       "        text-align: right;\n",
       "    }\n",
       "</style>\n",
       "<table border=\"1\" class=\"dataframe\">\n",
       "  <thead>\n",
       "    <tr style=\"text-align: right;\">\n",
       "      <th></th>\n",
       "      <th>id</th>\n",
       "      <th>Song-Name</th>\n",
       "      <th>Artists</th>\n",
       "      <th>Genre</th>\n",
       "      <th>Album/Movie</th>\n",
       "      <th>User-Rating</th>\n",
       "    </tr>\n",
       "  </thead>\n",
       "  <tbody>\n",
       "    <tr>\n",
       "      <th>0</th>\n",
       "      <td>1</td>\n",
       "      <td>Aankh Marey</td>\n",
       "      <td>KumarSanu,MikaSingh,NehaKakkar</td>\n",
       "      <td>Dance</td>\n",
       "      <td>Simmba</td>\n",
       "      <td>8.8</td>\n",
       "    </tr>\n",
       "    <tr>\n",
       "      <th>1</th>\n",
       "      <td>2</td>\n",
       "      <td>Coca Cola</td>\n",
       "      <td>NehaKakkar,TonyKakkar</td>\n",
       "      <td>DanceRomantic</td>\n",
       "      <td>Luka Chuppi</td>\n",
       "      <td>9.0</td>\n",
       "    </tr>\n",
       "    <tr>\n",
       "      <th>2</th>\n",
       "      <td>3</td>\n",
       "      <td>Apna Time Aayega</td>\n",
       "      <td>RanveerSingh</td>\n",
       "      <td>Dance</td>\n",
       "      <td>Gully Boy</td>\n",
       "      <td>9.7</td>\n",
       "    </tr>\n",
       "    <tr>\n",
       "      <th>3</th>\n",
       "      <td>4</td>\n",
       "      <td>Mungda</td>\n",
       "      <td>JyoticaTangri,Shaan,SubhroGanguly</td>\n",
       "      <td>Dance</td>\n",
       "      <td>Total Dhamaal</td>\n",
       "      <td>9.1</td>\n",
       "    </tr>\n",
       "    <tr>\n",
       "      <th>4</th>\n",
       "      <td>5</td>\n",
       "      <td>Tere Bin</td>\n",
       "      <td>AseesKaur,RahatFatehAliKhan,TanishkBagchi</td>\n",
       "      <td>Romantic</td>\n",
       "      <td>Simmba</td>\n",
       "      <td>9.2</td>\n",
       "    </tr>\n",
       "    <tr>\n",
       "      <th>...</th>\n",
       "      <td>...</td>\n",
       "      <td>...</td>\n",
       "      <td>...</td>\n",
       "      <td>...</td>\n",
       "      <td>...</td>\n",
       "      <td>...</td>\n",
       "    </tr>\n",
       "    <tr>\n",
       "      <th>2415</th>\n",
       "      <td>2416</td>\n",
       "      <td>Jana Tumhare Pyar Mein</td>\n",
       "      <td>Mukesh</td>\n",
       "      <td>Dance</td>\n",
       "      <td>Sasural</td>\n",
       "      <td>7.8</td>\n",
       "    </tr>\n",
       "    <tr>\n",
       "      <th>2416</th>\n",
       "      <td>2417</td>\n",
       "      <td>Tum Jaise Bigde Babu Se</td>\n",
       "      <td>LataMangeshkar</td>\n",
       "      <td>Dance</td>\n",
       "      <td>Jab Pyar Kisi Se Hota Hai</td>\n",
       "      <td>8.5</td>\n",
       "    </tr>\n",
       "    <tr>\n",
       "      <th>2417</th>\n",
       "      <td>2418</td>\n",
       "      <td>O Yaad Nahi Bhool Gaya</td>\n",
       "      <td>LataMangeshkar,SureshWadkar</td>\n",
       "      <td>Dance</td>\n",
       "      <td>Lamhe</td>\n",
       "      <td>8.7</td>\n",
       "    </tr>\n",
       "    <tr>\n",
       "      <th>2418</th>\n",
       "      <td>2419</td>\n",
       "      <td>Ladi Re Ladi Tujhse Aankh Jo Ladi</td>\n",
       "      <td>JagjitKaur</td>\n",
       "      <td>Dance</td>\n",
       "      <td>Shola Aur Shabnam</td>\n",
       "      <td>7.9</td>\n",
       "    </tr>\n",
       "    <tr>\n",
       "      <th>2419</th>\n",
       "      <td>2420</td>\n",
       "      <td>Mummy Aur Daddy Mein Ladai Ho Gayi</td>\n",
       "      <td>AshaBhosle</td>\n",
       "      <td>Dance</td>\n",
       "      <td>Shola Aur Shabnam</td>\n",
       "      <td>6.6</td>\n",
       "    </tr>\n",
       "  </tbody>\n",
       "</table>\n",
       "<p>2407 rows × 6 columns</p>\n",
       "</div>"
      ],
      "text/plain": [
       "        id                           Song-Name  \\\n",
       "0        1                         Aankh Marey   \n",
       "1        2                           Coca Cola   \n",
       "2        3                    Apna Time Aayega   \n",
       "3        4                              Mungda   \n",
       "4        5                            Tere Bin   \n",
       "...    ...                                 ...   \n",
       "2415  2416              Jana Tumhare Pyar Mein   \n",
       "2416  2417             Tum Jaise Bigde Babu Se   \n",
       "2417  2418              O Yaad Nahi Bhool Gaya   \n",
       "2418  2419   Ladi Re Ladi Tujhse Aankh Jo Ladi   \n",
       "2419  2420  Mummy Aur Daddy Mein Ladai Ho Gayi   \n",
       "\n",
       "                                        Artists           Genre  \\\n",
       "0                KumarSanu,MikaSingh,NehaKakkar           Dance   \n",
       "1                         NehaKakkar,TonyKakkar   DanceRomantic   \n",
       "2                                  RanveerSingh           Dance   \n",
       "3             JyoticaTangri,Shaan,SubhroGanguly           Dance   \n",
       "4     AseesKaur,RahatFatehAliKhan,TanishkBagchi        Romantic   \n",
       "...                                         ...             ...   \n",
       "2415                                     Mukesh           Dance   \n",
       "2416                             LataMangeshkar           Dance   \n",
       "2417                LataMangeshkar,SureshWadkar           Dance   \n",
       "2418                                 JagjitKaur           Dance   \n",
       "2419                                 AshaBhosle           Dance   \n",
       "\n",
       "                    Album/Movie  User-Rating  \n",
       "0                        Simmba          8.8  \n",
       "1                   Luka Chuppi          9.0  \n",
       "2                     Gully Boy          9.7  \n",
       "3                 Total Dhamaal          9.1  \n",
       "4                        Simmba          9.2  \n",
       "...                         ...          ...  \n",
       "2415                    Sasural          7.8  \n",
       "2416  Jab Pyar Kisi Se Hota Hai          8.5  \n",
       "2417                      Lamhe          8.7  \n",
       "2418          Shola Aur Shabnam          7.9  \n",
       "2419          Shola Aur Shabnam          6.6  \n",
       "\n",
       "[2407 rows x 6 columns]"
      ]
     },
     "execution_count": 60,
     "metadata": {},
     "output_type": "execute_result"
    }
   ],
   "source": [
    "df"
   ]
  },
  {
   "cell_type": "code",
   "execution_count": 61,
   "metadata": {},
   "outputs": [
    {
     "data": {
      "text/plain": [
       "0                     Simmba\n",
       "1                 LukaChuppi\n",
       "2                   GullyBoy\n",
       "3               TotalDhamaal\n",
       "4                     Simmba\n",
       "                ...         \n",
       "2415                 Sasural\n",
       "2416    JabPyarKisiSeHotaHai\n",
       "2417                   Lamhe\n",
       "2418         SholaAurShabnam\n",
       "2419         SholaAurShabnam\n",
       "Name: Album/Movie, Length: 2407, dtype: object"
      ]
     },
     "execution_count": 61,
     "metadata": {},
     "output_type": "execute_result"
    }
   ],
   "source": [
    "df['Album/Movie'] = df['Album/Movie'].str.replace(\" \", \"\", regex=False)\n",
    "df['Album/Movie']"
   ]
  },
  {
   "cell_type": "code",
   "execution_count": 62,
   "metadata": {},
   "outputs": [
    {
     "data": {
      "text/plain": [
       "0               Dance\n",
       "1       DanceRomantic\n",
       "2               Dance\n",
       "3               Dance\n",
       "4            Romantic\n",
       "            ...      \n",
       "2415            Dance\n",
       "2416            Dance\n",
       "2417            Dance\n",
       "2418            Dance\n",
       "2419            Dance\n",
       "Name: Genre, Length: 2407, dtype: object"
      ]
     },
     "execution_count": 62,
     "metadata": {},
     "output_type": "execute_result"
    }
   ],
   "source": [
    "df['Genre'] = df['Genre'].str.replace(\" \", \"\", regex=False)\n",
    "df['Genre']"
   ]
  },
  {
   "cell_type": "code",
   "execution_count": 63,
   "metadata": {},
   "outputs": [],
   "source": [
    "df['User-Rating']=df['User-Rating']/10"
   ]
  },
  {
   "cell_type": "code",
   "execution_count": 64,
   "metadata": {},
   "outputs": [],
   "source": [
    "df['Genre'] = df['Genre'].str.lower()\n",
    "df['Artists'] = df['Artists'].str.lower()\n",
    "df['Album/Movie'] = df['Album/Movie'].str.lower()"
   ]
  },
  {
   "cell_type": "code",
   "execution_count": 65,
   "metadata": {},
   "outputs": [],
   "source": [
    "df['tag'] = df['Genre'].astype(str) + ' ' + df['Artists'].astype(str) + ' ' + df['Album/Movie'].astype(str) + ' ' + df['User-Rating'].astype(str)"
   ]
  },
  {
   "cell_type": "code",
   "execution_count": 66,
   "metadata": {},
   "outputs": [],
   "source": [
    "df = df.drop(['Genre', 'Artists', 'Album/Movie', 'User-Rating'], axis=1)"
   ]
  },
  {
   "cell_type": "code",
   "execution_count": 67,
   "metadata": {},
   "outputs": [
    {
     "data": {
      "text/html": [
       "<div>\n",
       "<style scoped>\n",
       "    .dataframe tbody tr th:only-of-type {\n",
       "        vertical-align: middle;\n",
       "    }\n",
       "\n",
       "    .dataframe tbody tr th {\n",
       "        vertical-align: top;\n",
       "    }\n",
       "\n",
       "    .dataframe thead th {\n",
       "        text-align: right;\n",
       "    }\n",
       "</style>\n",
       "<table border=\"1\" class=\"dataframe\">\n",
       "  <thead>\n",
       "    <tr style=\"text-align: right;\">\n",
       "      <th></th>\n",
       "      <th>id</th>\n",
       "      <th>Song-Name</th>\n",
       "      <th>tag</th>\n",
       "    </tr>\n",
       "  </thead>\n",
       "  <tbody>\n",
       "    <tr>\n",
       "      <th>0</th>\n",
       "      <td>1</td>\n",
       "      <td>Aankh Marey</td>\n",
       "      <td>dance kumarsanu,mikasingh,nehakakkar simmba 0....</td>\n",
       "    </tr>\n",
       "    <tr>\n",
       "      <th>1</th>\n",
       "      <td>2</td>\n",
       "      <td>Coca Cola</td>\n",
       "      <td>danceromantic nehakakkar,tonykakkar lukachuppi...</td>\n",
       "    </tr>\n",
       "    <tr>\n",
       "      <th>2</th>\n",
       "      <td>3</td>\n",
       "      <td>Apna Time Aayega</td>\n",
       "      <td>dance ranveersingh gullyboy 0.97</td>\n",
       "    </tr>\n",
       "    <tr>\n",
       "      <th>3</th>\n",
       "      <td>4</td>\n",
       "      <td>Mungda</td>\n",
       "      <td>dance jyoticatangri,shaan,subhroganguly totald...</td>\n",
       "    </tr>\n",
       "    <tr>\n",
       "      <th>4</th>\n",
       "      <td>5</td>\n",
       "      <td>Tere Bin</td>\n",
       "      <td>romantic aseeskaur,rahatfatehalikhan,tanishkba...</td>\n",
       "    </tr>\n",
       "    <tr>\n",
       "      <th>...</th>\n",
       "      <td>...</td>\n",
       "      <td>...</td>\n",
       "      <td>...</td>\n",
       "    </tr>\n",
       "    <tr>\n",
       "      <th>2415</th>\n",
       "      <td>2416</td>\n",
       "      <td>Jana Tumhare Pyar Mein</td>\n",
       "      <td>dance mukesh sasural 0.78</td>\n",
       "    </tr>\n",
       "    <tr>\n",
       "      <th>2416</th>\n",
       "      <td>2417</td>\n",
       "      <td>Tum Jaise Bigde Babu Se</td>\n",
       "      <td>dance latamangeshkar jabpyarkisisehotahai 0.85</td>\n",
       "    </tr>\n",
       "    <tr>\n",
       "      <th>2417</th>\n",
       "      <td>2418</td>\n",
       "      <td>O Yaad Nahi Bhool Gaya</td>\n",
       "      <td>dance latamangeshkar,sureshwadkar lamhe 0.8699...</td>\n",
       "    </tr>\n",
       "    <tr>\n",
       "      <th>2418</th>\n",
       "      <td>2419</td>\n",
       "      <td>Ladi Re Ladi Tujhse Aankh Jo Ladi</td>\n",
       "      <td>dance jagjitkaur sholaaurshabnam 0.79</td>\n",
       "    </tr>\n",
       "    <tr>\n",
       "      <th>2419</th>\n",
       "      <td>2420</td>\n",
       "      <td>Mummy Aur Daddy Mein Ladai Ho Gayi</td>\n",
       "      <td>dance ashabhosle sholaaurshabnam 0.65999999999...</td>\n",
       "    </tr>\n",
       "  </tbody>\n",
       "</table>\n",
       "<p>2407 rows × 3 columns</p>\n",
       "</div>"
      ],
      "text/plain": [
       "        id                           Song-Name  \\\n",
       "0        1                         Aankh Marey   \n",
       "1        2                           Coca Cola   \n",
       "2        3                    Apna Time Aayega   \n",
       "3        4                              Mungda   \n",
       "4        5                            Tere Bin   \n",
       "...    ...                                 ...   \n",
       "2415  2416              Jana Tumhare Pyar Mein   \n",
       "2416  2417             Tum Jaise Bigde Babu Se   \n",
       "2417  2418              O Yaad Nahi Bhool Gaya   \n",
       "2418  2419   Ladi Re Ladi Tujhse Aankh Jo Ladi   \n",
       "2419  2420  Mummy Aur Daddy Mein Ladai Ho Gayi   \n",
       "\n",
       "                                                    tag  \n",
       "0     dance kumarsanu,mikasingh,nehakakkar simmba 0....  \n",
       "1     danceromantic nehakakkar,tonykakkar lukachuppi...  \n",
       "2                      dance ranveersingh gullyboy 0.97  \n",
       "3     dance jyoticatangri,shaan,subhroganguly totald...  \n",
       "4     romantic aseeskaur,rahatfatehalikhan,tanishkba...  \n",
       "...                                                 ...  \n",
       "2415                          dance mukesh sasural 0.78  \n",
       "2416     dance latamangeshkar jabpyarkisisehotahai 0.85  \n",
       "2417  dance latamangeshkar,sureshwadkar lamhe 0.8699...  \n",
       "2418              dance jagjitkaur sholaaurshabnam 0.79  \n",
       "2419  dance ashabhosle sholaaurshabnam 0.65999999999...  \n",
       "\n",
       "[2407 rows x 3 columns]"
      ]
     },
     "execution_count": 67,
     "metadata": {},
     "output_type": "execute_result"
    }
   ],
   "source": [
    "df"
   ]
  },
  {
   "cell_type": "code",
   "execution_count": 68,
   "metadata": {},
   "outputs": [],
   "source": [
    "from sklearn.feature_extraction.text import CountVectorizer\n",
    "cv = CountVectorizer(max_features=5000,stop_words='english')"
   ]
  },
  {
   "cell_type": "code",
   "execution_count": 69,
   "metadata": {},
   "outputs": [],
   "source": [
    "vector = cv.fit_transform(df['tag']).toarray()"
   ]
  },
  {
   "cell_type": "code",
   "execution_count": 70,
   "metadata": {},
   "outputs": [
    {
     "data": {
      "text/plain": [
       "(2407, 1727)"
      ]
     },
     "execution_count": 70,
     "metadata": {},
     "output_type": "execute_result"
    }
   ],
   "source": [
    "vector.shape"
   ]
  },
  {
   "cell_type": "code",
   "execution_count": 71,
   "metadata": {},
   "outputs": [],
   "source": [
    "# Convert tags to TF-IDF features\n",
    "vectorizer = TfidfVectorizer()\n",
    "X = vectorizer.fit_transform(df['tag'])"
   ]
  },
  {
   "cell_type": "code",
   "execution_count": 72,
   "metadata": {},
   "outputs": [],
   "source": [
    "# one apporch via function....\n",
    "\n",
    "# Apply K-Nearest Neighbors\n",
    "knn = NearestNeighbors(n_neighbors=6, metric='cosine')  # 6 neighbors: input song + 5 recommendations\n",
    "knn.fit(X)\n",
    "\n",
    "# Function to recommend songs based on input song\n",
    "def recommend(song):\n",
    "    song_index = df[df['Song-Name'] == song].index[0]\n",
    "    song_features = X[song_index]\n",
    "    \n",
    "    # Find nearest neighbors\n",
    "    distances, indices = knn.kneighbors(song_features, n_neighbors=6)\n",
    "    \n",
    "    # Limit to top 5 recommendations (excluding the input song itself)\n",
    "    recommendations = [df.iloc[i]['Song-Name'] for i in indices.flatten() if i != song_index][:5]\n",
    "    \n",
    "    return recommendations\n",
    "    for rec in recommendations:\n",
    "        print(rec)\n",
    "\n"
   ]
  },
  {
   "cell_type": "code",
   "execution_count": null,
   "metadata": {},
   "outputs": [],
   "source": []
  },
  {
   "cell_type": "code",
   "execution_count": 73,
   "metadata": {},
   "outputs": [
    {
     "data": {
      "text/plain": [
       "['Hai Junoon',\n",
       " 'Aisa Kyoon Hota Hai',\n",
       " 'Le Gayi',\n",
       " 'Gori Zara Hans De Tu Hans De',\n",
       " 'O Panchhi Pyare Sanjh Sakare']"
      ]
     },
     "execution_count": 73,
     "metadata": {},
     "output_type": "execute_result"
    }
   ],
   "source": [
    "recommend('Badi Dheere Jali')"
   ]
  },
  {
   "cell_type": "code",
   "execution_count": 74,
   "metadata": {},
   "outputs": [],
   "source": [
    "# from sklearn.metrics.pairwise import cosine_similarity"
   ]
  },
  {
   "cell_type": "code",
   "execution_count": 75,
   "metadata": {},
   "outputs": [],
   "source": [
    "# similarity = cosine_similarity(vector)"
   ]
  },
  {
   "cell_type": "code",
   "execution_count": 76,
   "metadata": {},
   "outputs": [],
   "source": [
    "# similarity"
   ]
  },
  {
   "cell_type": "code",
   "execution_count": 77,
   "metadata": {},
   "outputs": [],
   "source": [
    "# kmeans = KMeans(n_clusters=5, random_state=42)\n",
    "# kmeans.fit(X)\n",
    "\n",
    "# # Define the recommendation function\n",
    "# def recommend2(song):\n",
    "#     song_index = df[df['Song-Name'] == song].index[0]\n",
    "#     song_features = X[song_index]\n",
    "\n",
    "#     # Find the cluster of the input song\n",
    "#     song_cluster = kmeans.predict([song_features])[0]\n",
    "    \n",
    "#     # Find all songs in the same cluster\n",
    "#     cluster_indices = np.where(kmeans.labels_ == song_cluster)[0]\n",
    "    \n",
    "#     # Exclude the input song itself from recommendations\n",
    "#     cluster_indices = cluster_indices[cluster_indices != song_index]\n",
    "    \n",
    "#     # Recommend up to 5 other songs in the same cluster\n",
    "#     recommendations = [df.iloc[i]['Song-Name'] for i in cluster_indices][:5]\n",
    "    \n",
    "#     for rec in recommendations:\n",
    "#         print(rec)\n",
    "    \n",
    "#     return song_index, cluster_indices\n",
    "\n",
    "# # Define the visualization function\n",
    "# def visualize_recommendation(song_index, indices, df, X):\n",
    "#     \"\"\"Visualizes the input song and its recommendations in a scatter plot.\"\"\"\n",
    "\n",
    "#     tsne = TSNE(n_components=2, random_state=42)\n",
    "#     X_embedded = tsne.fit_transform(X.toarray())  # Convert sparse matrix to dense for t-SNE\n",
    "\n",
    "#     plt.figure(figsize=(8, 6))\n",
    "#     plt.scatter(X_embedded[:, 0], X_embedded[:, 1], color='lightgray', label='Other Songs')  # All songs\n",
    "\n",
    "#     # Highlight the input song\n",
    "#     plt.scatter(X_embedded[song_index, 0], X_embedded[song_index, 1], color='red', marker='*', s=200, label=f'Input Song: {df[\"Song-Name\"].iloc[song_index]}')\n",
    "\n",
    "#     # Highlight the recommended songs\n",
    "#     recommendation_indices = indices[:5]  # Ensure only top 5 are highlighted\n",
    "#     plt.scatter(X_embedded[recommendation_indices, 0], X_embedded[recommendation_indices, 1], color='green', marker='o', s=100, label='Recommended Songs')\n",
    "\n",
    "#     # Add labels for recommended songs\n",
    "#     for i in recommendation_indices:\n",
    "#         plt.text(X_embedded[i, 0], X_embedded[i, 1], df[\"Song-Name\"].iloc[i], fontsize=9, ha='right')  # Add song names as labels\n",
    "\n",
    "#     plt.xlabel(\"Feature 1\")\n",
    "#     plt.ylabel(\"Feature 2\")\n",
    "#     plt.title(\"Song Recommendation Visualization\")\n",
    "#     plt.legend()\n",
    "#     plt.grid(True)  # Optional grid\n",
    "#     plt.show()\n",
    "\n",
    "# # Example usage\n",
    "# song_index, cluster_indices = recommend2('Aankh Marey')\n",
    "# visualize_recommendation(song_index, cluster_indices, df, X)\n"
   ]
  },
  {
   "cell_type": "code",
   "execution_count": 78,
   "metadata": {},
   "outputs": [],
   "source": [
    "# recommend2('Tere Bin')"
   ]
  },
  {
   "cell_type": "code",
   "execution_count": 79,
   "metadata": {},
   "outputs": [],
   "source": [
    "import pickle\n",
    "pickle.dump(df,open('Song_list.pkl','wb'))"
   ]
  },
  {
   "cell_type": "code",
   "execution_count": 80,
   "metadata": {},
   "outputs": [],
   "source": [
    "pickle.dump(X,open('feature_matrix.pkl','wb'))"
   ]
  }
 ],
 "metadata": {
  "kernelspec": {
   "display_name": "base",
   "language": "python",
   "name": "python3"
  },
  "language_info": {
   "codemirror_mode": {
    "name": "ipython",
    "version": 3
   },
   "file_extension": ".py",
   "mimetype": "text/x-python",
   "name": "python",
   "nbconvert_exporter": "python",
   "pygments_lexer": "ipython3",
   "version": "3.12.7"
  }
 },
 "nbformat": 4,
 "nbformat_minor": 4
}
